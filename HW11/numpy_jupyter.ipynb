{
 "cells": [
  {
   "cell_type": "code",
   "execution_count": 14,
   "id": "a3750e10",
   "metadata": {},
   "outputs": [],
   "source": [
    "#Создать 2 массива NumPy\n",
    "#Один из случайных чисел, второй - использую arange Или linspace\n",
    "#Изменить форму массива"
   ]
  },
  {
   "cell_type": "code",
   "execution_count": null,
   "id": "fcc2c5ce",
   "metadata": {},
   "outputs": [],
   "source": [
    "import numpy as np"
   ]
  },
  {
   "cell_type": "code",
   "execution_count": 23,
   "id": "40622db2",
   "metadata": {},
   "outputs": [
    {
     "data": {
      "text/plain": [
       "array([[0.80953975, 0.7503431 , 0.49621073, 0.11207527, 0.83057202],\n",
       "       [0.09904679, 0.48522504, 0.42871198, 0.0475287 , 0.43890132]])"
      ]
     },
     "execution_count": 23,
     "metadata": {},
     "output_type": "execute_result"
    }
   ],
   "source": [
    "random_array = np.random.random(10)\n",
    "random_array = random_array.reshape(2,5)\n",
    "random_array"
   ]
  },
  {
   "cell_type": "code",
   "execution_count": 15,
   "id": "3ca8ebba",
   "metadata": {},
   "outputs": [
    {
     "data": {
      "text/plain": [
       "array([[0, 1, 2, 3, 4],\n",
       "       [5, 6, 7, 8, 9]])"
      ]
     },
     "execution_count": 15,
     "metadata": {},
     "output_type": "execute_result"
    }
   ],
   "source": [
    "arange_array = np.arange(0,10)\n",
    "arange_array = arange_array.reshape(2,5)\n",
    "arange_array"
   ]
  },
  {
   "cell_type": "code",
   "execution_count": null,
   "id": "c53fdace",
   "metadata": {},
   "outputs": [],
   "source": [
    "\n",
    "#После этого выполнить математические операции- сложить, перемножить, делить"
   ]
  },
  {
   "cell_type": "code",
   "execution_count": 11,
   "id": "60ef179c",
   "metadata": {},
   "outputs": [
    {
     "data": {
      "text/plain": [
       "array([[0.23653768, 1.0406258 , 2.72141888, 3.28029097, 4.32834916],\n",
       "       [5.28484119, 6.52854214, 7.65023299, 8.96772411, 9.25814576]])"
      ]
     },
     "execution_count": 11,
     "metadata": {},
     "output_type": "execute_result"
    }
   ],
   "source": [
    "arange_array + random_array"
   ]
  },
  {
   "cell_type": "code",
   "execution_count": 12,
   "id": "3b675b3b",
   "metadata": {},
   "outputs": [
    {
     "data": {
      "text/plain": [
       "array([[0.        , 0.0406258 , 1.44283775, 0.84087291, 1.31339664],\n",
       "       [1.42420596, 3.17125285, 4.55163092, 7.7417929 , 2.3233118 ]])"
      ]
     },
     "execution_count": 12,
     "metadata": {},
     "output_type": "execute_result"
    }
   ],
   "source": [
    "arange_array * random_array"
   ]
  },
  {
   "cell_type": "code",
   "execution_count": 13,
   "id": "f29f155a",
   "metadata": {},
   "outputs": [
    {
     "data": {
      "text/plain": [
       "array([[ 0.        , 24.61489827,  2.77231449, 10.70316318, 12.18215388],\n",
       "       [17.55364088, 11.35198034, 10.76537198,  8.26681892, 34.86402472]])"
      ]
     },
     "execution_count": 13,
     "metadata": {},
     "output_type": "execute_result"
    }
   ],
   "source": [
    "arange_array / random_array"
   ]
  },
  {
   "cell_type": "code",
   "execution_count": 16,
   "id": "b5451871",
   "metadata": {},
   "outputs": [],
   "source": [
    "\n",
    "#Найти максимальный элемент в каждой строчке и столбце первого массива (из случайных чисел_"
   ]
  },
  {
   "cell_type": "code",
   "execution_count": 18,
   "id": "08c954ed",
   "metadata": {},
   "outputs": [
    {
     "data": {
      "text/plain": [
       "array([0.28484119, 0.52854214, 0.72141888, 0.96772411, 0.32834916])"
      ]
     },
     "execution_count": 18,
     "metadata": {},
     "output_type": "execute_result"
    }
   ],
   "source": [
    "random_array.max(axis = 0)"
   ]
  },
  {
   "cell_type": "code",
   "execution_count": 19,
   "id": "fe94d8a4",
   "metadata": {},
   "outputs": [
    {
     "data": {
      "text/plain": [
       "array([0.72141888, 0.96772411])"
      ]
     },
     "execution_count": 19,
     "metadata": {},
     "output_type": "execute_result"
    }
   ],
   "source": [
    "random_array.max(axis = 1)"
   ]
  },
  {
   "cell_type": "code",
   "execution_count": 20,
   "id": "02b7bb13",
   "metadata": {},
   "outputs": [],
   "source": [
    "\n",
    "#Найти максимальный элемент в из 2 массивов"
   ]
  },
  {
   "cell_type": "code",
   "execution_count": 21,
   "id": "85ed928d",
   "metadata": {},
   "outputs": [
    {
     "data": {
      "text/plain": [
       "9"
      ]
     },
     "execution_count": 21,
     "metadata": {},
     "output_type": "execute_result"
    }
   ],
   "source": [
    "max(random_array.max(), arange_array.max())"
   ]
  },
  {
   "cell_type": "code",
   "execution_count": 22,
   "id": "9d9faf4e",
   "metadata": {},
   "outputs": [],
   "source": [
    "\n"
   ]
  },
  {
   "cell_type": "code",
   "execution_count": null,
   "id": "01c895e3",
   "metadata": {},
   "outputs": [],
   "source": []
  }
 ],
 "metadata": {
  "kernelspec": {
   "display_name": "Python 3 (ipykernel)",
   "language": "python",
   "name": "python3"
  },
  "language_info": {
   "codemirror_mode": {
    "name": "ipython",
    "version": 3
   },
   "file_extension": ".py",
   "mimetype": "text/x-python",
   "name": "python",
   "nbconvert_exporter": "python",
   "pygments_lexer": "ipython3",
   "version": "3.9.13"
  }
 },
 "nbformat": 4,
 "nbformat_minor": 5
}
